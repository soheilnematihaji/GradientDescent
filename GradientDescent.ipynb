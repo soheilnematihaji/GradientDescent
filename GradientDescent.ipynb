{
 "cells": [
  {
   "cell_type": "code",
   "execution_count": 1,
   "metadata": {},
   "outputs": [],
   "source": [
    "import numpy as np\n",
    "from numpy import linalg as LA\n",
    "\n",
    "import unittest"
   ]
  },
  {
   "cell_type": "code",
   "execution_count": 27,
   "metadata": {},
   "outputs": [],
   "source": [
    "\n",
    "class GradientDescent:\n",
    "    \n",
    "        \n",
    "    def __init__(self):\n",
    "        pass\n",
    "    \n",
    "    def gradient(self,function,x,delta_val):\n",
    "        \"\"\"\n",
    "        function: a lambda function as the input to compute function(x) and function(x+delta)\n",
    "        x: the input to the function it can be numpy array of any length\n",
    "        delta_val: this is refering to the delta value in calculating the gradient\n",
    "            for example for 1 dimenstion delta:= d in (f(x+d)-f(x))/d   \n",
    "        \"\"\"\n",
    "        delta = delta_val*np.eye(len(x))# defining len(x) dimention with value of delta_val in the diognal to calculate the gradient\n",
    "        \n",
    "        return np.array([ (function(x+delta[i])-function(x))/delta_val for i in range(len(x))])\n",
    "        \n",
    "    def gradientDescent(self, function, initial_point, iterations, learning_rate, delta_val):\n",
    "        theta=initial_point\n",
    "        for i in range(iterations):\n",
    "            theta=theta-learning_rate*self.gradient(function,theta,delta_val)\n",
    "        return theta\n",
    "\n",
    "    "
   ]
  },
  {
   "cell_type": "code",
   "execution_count": 43,
   "metadata": {},
   "outputs": [
    {
     "name": "stderr",
     "output_type": "stream",
     "text": [
      ".\n",
      "----------------------------------------------------------------------\n",
      "Ran 1 test in 0.020s\n",
      "\n",
      "OK\n"
     ]
    }
   ],
   "source": [
    "class Test(unittest.TestCase):\n",
    "    \n",
    "    # This is a variable to generate normal train set with train_size size\n",
    "    #increasing or decreasing it may effect the test\n",
    "    train_size=5000\n",
    "    \n",
    "    \n",
    "    # This is a variable to generate huge train set with train_size size\n",
    "    #increasing this will effect the time of the tests\n",
    "    efficiency_train_size=1000000\n",
    "    \n",
    "    batchsize_eff=100000\n",
    "    \n",
    "    def generate_random_noraml_point(self,count,pointCount):\n",
    "        point=[[(i+count)] for i in range(pointCount)]\n",
    "        x_train=[[i] for i in range(count)]\n",
    "        y_train=[[i] for i in range(count)]+np.random.randn(count, 1)\n",
    "        return point,x_train,y_train \n",
    "    \n",
    "    def f(self,x):\n",
    "        return x[0]*x[0]+2*x[1]*x[1]\n",
    "    \n",
    "    def test_fitLine(self):\n",
    "        point,x_train,y_train=self.generate_random_noraml_point(self.train_size,1)\n",
    "        gd=GradientDescent()\n",
    "        gradient=gd.gradient(self.f,[3,2],0.01)\n",
    "        assert LA.norm(gradient-[6 ,8]) < 0.03\n",
    "        min_0=gd.gradientDescent(self.f,np.array([5,5]),200,0.1,0.0001)\n",
    "        assert LA.norm(min_0-[0 ,0]) < 0.03\n",
    "        \n",
    "    \n",
    "        \n",
    "        \n",
    "if __name__== '__main__':\n",
    "    unittest.main(argv=['first-arg-is-ignored'], exit=False)"
   ]
  },
  {
   "cell_type": "code",
   "execution_count": null,
   "metadata": {},
   "outputs": [],
   "source": []
  }
 ],
 "metadata": {
  "kernelspec": {
   "display_name": "Python 3",
   "language": "python",
   "name": "python3"
  },
  "language_info": {
   "codemirror_mode": {
    "name": "ipython",
    "version": 3
   },
   "file_extension": ".py",
   "mimetype": "text/x-python",
   "name": "python",
   "nbconvert_exporter": "python",
   "pygments_lexer": "ipython3",
   "version": "3.8.5"
  }
 },
 "nbformat": 4,
 "nbformat_minor": 4
}
